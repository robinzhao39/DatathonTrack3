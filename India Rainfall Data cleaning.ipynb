{
 "cells": [
  {
   "cell_type": "markdown",
   "metadata": {},
   "source": [
    "## Import Packages"
   ]
  },
  {
   "cell_type": "code",
   "execution_count": 1,
   "metadata": {},
   "outputs": [],
   "source": [
    "import pandas as pd\n",
    "import re"
   ]
  },
  {
   "cell_type": "markdown",
   "metadata": {},
   "source": [
    "## Specify the longitude range"
   ]
  },
  {
   "cell_type": "code",
   "execution_count": 2,
   "metadata": {},
   "outputs": [],
   "source": [
    "longitude=[\"66.5\", \"67.5\", \"68.5\", \"69.5\", \"70.5\",\n",
    "         \"71.5\", \"72.5\", \"73.5\", \"74.5\", \"75.5\",\n",
    "         \"76.5\", \"77.5\", \"78.5\", \"79.5\", \"80.5\",\n",
    "         \"81.5\", \"82.5\", \"83.5\", \"84.5\", \"85.5\",\n",
    "         \"86.5\", \"87.5\", \"88.5\", \"89.5\", \"90.5\",\n",
    "         \"91.5\", \"92.5\", \"93.5\", \"94.5\", \"95.5\",\n",
    "         \"96.5\", \"97.5\", \"98.5\", \"99.5\", \"100.5\"]"
   ]
  },
  {
   "cell_type": "markdown",
   "metadata": {},
   "source": [
    "## Read data from files and store in data list"
   ]
  },
  {
   "cell_type": "code",
   "execution_count": 3,
   "metadata": {},
   "outputs": [],
   "source": [
    "data=[]\n",
    "for year in range(1951,2016):\n",
    "    file=open(\"data/rf_\"+str(year)+\".TXT\",'r')\n",
    "    lines=file.readlines()\n",
    "    data.append(lines)\n",
    "    file.close()"
   ]
  },
  {
   "cell_type": "markdown",
   "metadata": {},
   "source": [
    "## Extract Useful Rainfall data"
   ]
  },
  {
   "cell_type": "code",
   "execution_count": 4,
   "metadata": {},
   "outputs": [],
   "source": [
    "row=[]\n",
    "for file in data:\n",
    "    for line in file:\n",
    "        list1=line.split()\n",
    "        if re.search(r'^19|^20', line):\n",
    "            date=list1[0]+\"-\"+list1[1]+\"-\"+list1[2]\n",
    "            continue\n",
    "        elif re.search(r'^66\\.5E|^38\\.5N|^37\\.5N|^7\\.5N|^6\\.5N|^\\n$', line):\n",
    "            continue\n",
    "        else:\n",
    "            lat=list1[0]\n",
    "            count=0\n",
    "            for num in list1[1:]:\n",
    "                if num=='-99.9':\n",
    "                    count+=1\n",
    "                else:\n",
    "                    row.append([date,lat,longitude[count],num])\n",
    "                    count+=1"
   ]
  },
  {
   "cell_type": "code",
   "execution_count": 6,
   "metadata": {},
   "outputs": [],
   "source": [
    "import pandas as pd"
   ]
  },
  {
   "cell_type": "markdown",
   "metadata": {},
   "source": [
    "## Put data into a dataframe"
   ]
  },
  {
   "cell_type": "code",
   "execution_count": 5,
   "metadata": {},
   "outputs": [
    {
     "data": {
      "text/plain": [
       "8475537"
      ]
     },
     "execution_count": 5,
     "metadata": {},
     "output_type": "execute_result"
    }
   ],
   "source": [
    "df=pd.DataFrame(row)\n",
    "df.columns=['Date','Latitude','Longitude','rainfall']\n",
    "len(df)"
   ]
  },
  {
   "cell_type": "code",
   "execution_count": 6,
   "metadata": {},
   "outputs": [
    {
     "data": {
      "text/html": [
       "<div>\n",
       "<style scoped>\n",
       "    .dataframe tbody tr th:only-of-type {\n",
       "        vertical-align: middle;\n",
       "    }\n",
       "\n",
       "    .dataframe tbody tr th {\n",
       "        vertical-align: top;\n",
       "    }\n",
       "\n",
       "    .dataframe thead th {\n",
       "        text-align: right;\n",
       "    }\n",
       "</style>\n",
       "<table border=\"1\" class=\"dataframe\">\n",
       "  <thead>\n",
       "    <tr style=\"text-align: right;\">\n",
       "      <th></th>\n",
       "      <th>Date</th>\n",
       "      <th>Latitude</th>\n",
       "      <th>Longitude</th>\n",
       "      <th>rainfall</th>\n",
       "    </tr>\n",
       "  </thead>\n",
       "  <tbody>\n",
       "    <tr>\n",
       "      <th>0</th>\n",
       "      <td>1951-01-01</td>\n",
       "      <td>36.5</td>\n",
       "      <td>72.5</td>\n",
       "      <td>0.0</td>\n",
       "    </tr>\n",
       "    <tr>\n",
       "      <th>1</th>\n",
       "      <td>1951-01-01</td>\n",
       "      <td>36.5</td>\n",
       "      <td>73.5</td>\n",
       "      <td>0.0</td>\n",
       "    </tr>\n",
       "    <tr>\n",
       "      <th>2</th>\n",
       "      <td>1951-01-01</td>\n",
       "      <td>36.5</td>\n",
       "      <td>74.5</td>\n",
       "      <td>0.0</td>\n",
       "    </tr>\n",
       "    <tr>\n",
       "      <th>3</th>\n",
       "      <td>1951-01-01</td>\n",
       "      <td>36.5</td>\n",
       "      <td>75.5</td>\n",
       "      <td>0.0</td>\n",
       "    </tr>\n",
       "    <tr>\n",
       "      <th>4</th>\n",
       "      <td>1951-01-01</td>\n",
       "      <td>36.5</td>\n",
       "      <td>78.5</td>\n",
       "      <td>0.0</td>\n",
       "    </tr>\n",
       "  </tbody>\n",
       "</table>\n",
       "</div>"
      ],
      "text/plain": [
       "         Date Latitude Longitude rainfall\n",
       "0  1951-01-01     36.5      72.5      0.0\n",
       "1  1951-01-01     36.5      73.5      0.0\n",
       "2  1951-01-01     36.5      74.5      0.0\n",
       "3  1951-01-01     36.5      75.5      0.0\n",
       "4  1951-01-01     36.5      78.5      0.0"
      ]
     },
     "execution_count": 6,
     "metadata": {},
     "output_type": "execute_result"
    }
   ],
   "source": [
    "df.head()"
   ]
  },
  {
   "cell_type": "code",
   "execution_count": 7,
   "metadata": {},
   "outputs": [],
   "source": [
    "df.to_csv(\"India_Rainfall_Data.csv\",index=False)"
   ]
  },
  {
   "cell_type": "code",
   "execution_count": 8,
   "metadata": {},
   "outputs": [],
   "source": [
    "#select only one year - 1981\n",
    "year = df[\"Date\"].str[:4]\n",
    "df[\"Year\"] = year\n",
    "rainfall_1981 = df[(df[\"Year\"] == \"1981\")]"
   ]
  },
  {
   "cell_type": "code",
   "execution_count": 9,
   "metadata": {},
   "outputs": [
    {
     "data": {
      "text/html": [
       "<div>\n",
       "<style scoped>\n",
       "    .dataframe tbody tr th:only-of-type {\n",
       "        vertical-align: middle;\n",
       "    }\n",
       "\n",
       "    .dataframe tbody tr th {\n",
       "        vertical-align: top;\n",
       "    }\n",
       "\n",
       "    .dataframe thead th {\n",
       "        text-align: right;\n",
       "    }\n",
       "</style>\n",
       "<table border=\"1\" class=\"dataframe\">\n",
       "  <thead>\n",
       "    <tr style=\"text-align: right;\">\n",
       "      <th></th>\n",
       "      <th>Date</th>\n",
       "      <th>Latitude</th>\n",
       "      <th>Longitude</th>\n",
       "      <th>rainfall</th>\n",
       "      <th>Year</th>\n",
       "    </tr>\n",
       "  </thead>\n",
       "  <tbody>\n",
       "    <tr>\n",
       "      <th>3912006</th>\n",
       "      <td>1981-01-01</td>\n",
       "      <td>36.5</td>\n",
       "      <td>72.5</td>\n",
       "      <td>0.0</td>\n",
       "      <td>1981</td>\n",
       "    </tr>\n",
       "    <tr>\n",
       "      <th>3912007</th>\n",
       "      <td>1981-01-01</td>\n",
       "      <td>36.5</td>\n",
       "      <td>73.5</td>\n",
       "      <td>0.0</td>\n",
       "      <td>1981</td>\n",
       "    </tr>\n",
       "    <tr>\n",
       "      <th>3912008</th>\n",
       "      <td>1981-01-01</td>\n",
       "      <td>36.5</td>\n",
       "      <td>74.5</td>\n",
       "      <td>0.0</td>\n",
       "      <td>1981</td>\n",
       "    </tr>\n",
       "    <tr>\n",
       "      <th>3912009</th>\n",
       "      <td>1981-01-01</td>\n",
       "      <td>36.5</td>\n",
       "      <td>75.5</td>\n",
       "      <td>0.0</td>\n",
       "      <td>1981</td>\n",
       "    </tr>\n",
       "    <tr>\n",
       "      <th>3912010</th>\n",
       "      <td>1981-01-01</td>\n",
       "      <td>36.5</td>\n",
       "      <td>78.5</td>\n",
       "      <td>0.0</td>\n",
       "      <td>1981</td>\n",
       "    </tr>\n",
       "  </tbody>\n",
       "</table>\n",
       "</div>"
      ],
      "text/plain": [
       "               Date Latitude Longitude rainfall  Year\n",
       "3912006  1981-01-01     36.5      72.5      0.0  1981\n",
       "3912007  1981-01-01     36.5      73.5      0.0  1981\n",
       "3912008  1981-01-01     36.5      74.5      0.0  1981\n",
       "3912009  1981-01-01     36.5      75.5      0.0  1981\n",
       "3912010  1981-01-01     36.5      78.5      0.0  1981"
      ]
     },
     "execution_count": 9,
     "metadata": {},
     "output_type": "execute_result"
    }
   ],
   "source": [
    "rainfall_1981.head()"
   ]
  },
  {
   "cell_type": "code",
   "execution_count": 39,
   "metadata": {},
   "outputs": [],
   "source": [
    "rainfall_1981.to_csv(\"rainfall_1981.csv\", index=False)"
   ]
  },
  {
   "cell_type": "code",
   "execution_count": 120,
   "metadata": {},
   "outputs": [],
   "source": [
    "#select year 1951-1960 (10 years)\n",
    "rainfall_1951_to_1960 = df[(df[\"Year\"].isin([\"1951\", \"1952\", \"1953\", \"1954\", \"1955\", \"1956\", \"1957\",\"1958\", \"1959\", \"1960\"]))]"
   ]
  },
  {
   "cell_type": "code",
   "execution_count": 121,
   "metadata": {},
   "outputs": [
    {
     "data": {
      "text/html": [
       "<div>\n",
       "<style scoped>\n",
       "    .dataframe tbody tr th:only-of-type {\n",
       "        vertical-align: middle;\n",
       "    }\n",
       "\n",
       "    .dataframe tbody tr th {\n",
       "        vertical-align: top;\n",
       "    }\n",
       "\n",
       "    .dataframe thead th {\n",
       "        text-align: right;\n",
       "    }\n",
       "</style>\n",
       "<table border=\"1\" class=\"dataframe\">\n",
       "  <thead>\n",
       "    <tr style=\"text-align: right;\">\n",
       "      <th></th>\n",
       "      <th>Date</th>\n",
       "      <th>Latitude</th>\n",
       "      <th>Longitude</th>\n",
       "      <th>rainfall</th>\n",
       "      <th>Year</th>\n",
       "    </tr>\n",
       "  </thead>\n",
       "  <tbody>\n",
       "    <tr>\n",
       "      <th>0</th>\n",
       "      <td>1951-01-01</td>\n",
       "      <td>36.5</td>\n",
       "      <td>72.5</td>\n",
       "      <td>0.0</td>\n",
       "      <td>1951</td>\n",
       "    </tr>\n",
       "    <tr>\n",
       "      <th>1</th>\n",
       "      <td>1951-01-01</td>\n",
       "      <td>36.5</td>\n",
       "      <td>73.5</td>\n",
       "      <td>0.0</td>\n",
       "      <td>1951</td>\n",
       "    </tr>\n",
       "    <tr>\n",
       "      <th>2</th>\n",
       "      <td>1951-01-01</td>\n",
       "      <td>36.5</td>\n",
       "      <td>74.5</td>\n",
       "      <td>0.0</td>\n",
       "      <td>1951</td>\n",
       "    </tr>\n",
       "    <tr>\n",
       "      <th>3</th>\n",
       "      <td>1951-01-01</td>\n",
       "      <td>36.5</td>\n",
       "      <td>75.5</td>\n",
       "      <td>0.0</td>\n",
       "      <td>1951</td>\n",
       "    </tr>\n",
       "    <tr>\n",
       "      <th>4</th>\n",
       "      <td>1951-01-01</td>\n",
       "      <td>36.5</td>\n",
       "      <td>78.5</td>\n",
       "      <td>0.0</td>\n",
       "      <td>1951</td>\n",
       "    </tr>\n",
       "  </tbody>\n",
       "</table>\n",
       "</div>"
      ],
      "text/plain": [
       "         Date Latitude Longitude rainfall  Year\n",
       "0  1951-01-01     36.5      72.5      0.0  1951\n",
       "1  1951-01-01     36.5      73.5      0.0  1951\n",
       "2  1951-01-01     36.5      74.5      0.0  1951\n",
       "3  1951-01-01     36.5      75.5      0.0  1951\n",
       "4  1951-01-01     36.5      78.5      0.0  1951"
      ]
     },
     "execution_count": 121,
     "metadata": {},
     "output_type": "execute_result"
    }
   ],
   "source": [
    "rainfall_1951_to_1960.head()"
   ]
  },
  {
   "cell_type": "code",
   "execution_count": null,
   "metadata": {},
   "outputs": [],
   "source": []
  },
  {
   "cell_type": "code",
   "execution_count": 128,
   "metadata": {},
   "outputs": [
    {
     "name": "stderr",
     "output_type": "stream",
     "text": [
      "<ipython-input-128-b8b3d84957b0>:2: SettingWithCopyWarning: \n",
      "A value is trying to be set on a copy of a slice from a DataFrame.\n",
      "Try using .loc[row_indexer,col_indexer] = value instead\n",
      "\n",
      "See the caveats in the documentation: https://pandas.pydata.org/pandas-docs/stable/user_guide/indexing.html#returning-a-view-versus-a-copy\n",
      "  rainfall_1951_to_1960[\"rainfall\"] = rainfall_1951_to_1960[\"rainfall\"].astype(float)\n"
     ]
    }
   ],
   "source": [
    "#group 1951 - 1960 rainfall data by date, latitude, longitude and get mean(rainfall)\n",
    "rainfall_1951_to_1960[\"rainfall\"] = rainfall_1951_to_1960[\"rainfall\"].astype(float)\n",
    "grouped_1951_to_1960 = rainfall_1951_to_1960.groupby(['Latitude','Longitude'])[\"rainfall\"].mean()\n",
    "grouped_1951_to_1960 = grouped_1951_to_1960.reset_index()"
   ]
  },
  {
   "cell_type": "code",
   "execution_count": 131,
   "metadata": {},
   "outputs": [],
   "source": [
    "grouped_1951_to_1960.to_csv(\"grouped_1951_to_1960.csv\",index=False)"
   ]
  },
  {
   "cell_type": "code",
   "execution_count": 134,
   "metadata": {},
   "outputs": [
    {
     "name": "stderr",
     "output_type": "stream",
     "text": [
      "<ipython-input-134-06b8cb2a0ab1>:3: SettingWithCopyWarning: \n",
      "A value is trying to be set on a copy of a slice from a DataFrame.\n",
      "Try using .loc[row_indexer,col_indexer] = value instead\n",
      "\n",
      "See the caveats in the documentation: https://pandas.pydata.org/pandas-docs/stable/user_guide/indexing.html#returning-a-view-versus-a-copy\n",
      "  rainfall_1961_to_1970[\"rainfall\"] = rainfall_1961_to_1970[\"rainfall\"].astype(float)\n"
     ]
    }
   ],
   "source": [
    "#group 1961 - 1970 rainfall data by date, latitude, longitude and get mean(rainfall)\n",
    "rainfall_1961_to_1970 = df[(df[\"Year\"].isin([\"1961\", \"1962\", \"1963\", \"1964\", \"1965\", \"1966\", \"1967\",\"1968\", \"1969\", \"1970\"]))]\n",
    "rainfall_1961_to_1970[\"rainfall\"] = rainfall_1961_to_1970[\"rainfall\"].astype(float)\n",
    "grouped_1961_to_1970 = rainfall_1961_to_1970.groupby(['Latitude','Longitude'])[\"rainfall\"].mean()\n",
    "grouped_1961_to_1970 = grouped_1961_to_1970.reset_index()\n",
    "grouped_1961_to_1970.to_csv(\"grouped_1961_to_1970.csv\",index=False)"
   ]
  },
  {
   "cell_type": "code",
   "execution_count": 135,
   "metadata": {},
   "outputs": [
    {
     "name": "stderr",
     "output_type": "stream",
     "text": [
      "<ipython-input-135-78da6e9ba816>:3: SettingWithCopyWarning: \n",
      "A value is trying to be set on a copy of a slice from a DataFrame.\n",
      "Try using .loc[row_indexer,col_indexer] = value instead\n",
      "\n",
      "See the caveats in the documentation: https://pandas.pydata.org/pandas-docs/stable/user_guide/indexing.html#returning-a-view-versus-a-copy\n",
      "  rainfall_1971_to_1980[\"rainfall\"] = rainfall_1971_to_1980[\"rainfall\"].astype(float)\n"
     ]
    }
   ],
   "source": [
    "#group 1971 - 1980 rainfall data by date, latitude, longitude and get mean(rainfall)\n",
    "rainfall_1971_to_1980 = df[(df[\"Year\"].isin([\"1971\", \"1972\", \"1973\", \"1974\", \"1975\", \"1976\", \"1977\",\"1978\", \"1979\", \"1980\"]))]\n",
    "rainfall_1971_to_1980[\"rainfall\"] = rainfall_1971_to_1980[\"rainfall\"].astype(float)\n",
    "grouped_1971_to_1980 = rainfall_1971_to_1980.groupby(['Latitude','Longitude'])[\"rainfall\"].mean()\n",
    "grouped_1971_to_1980 = grouped_1971_to_1980.reset_index()\n",
    "grouped_1971_to_1980.to_csv(\"grouped_1971_to_1980.csv\",index=False)"
   ]
  },
  {
   "cell_type": "code",
   "execution_count": null,
   "metadata": {},
   "outputs": [],
   "source": [
    "#group 1971 - 1980 rainfall data by date, latitude, longitude and get mean(rainfall)\n",
    "rainfall_1971_to_1980 = df[(df[\"Year\"].isin([\"1971\", \"1972\", \"1973\", \"1974\", \"1975\", \"1976\", \"1977\",\"1978\", \"1979\", \"1980\"]))]\n",
    "rainfall_1971_to_1980[\"rainfall\"] = rainfall_1971_to_1980[\"rainfall\"].astype(float)\n",
    "grouped_1971_to_1980 = rainfall_1971_to_1980.groupby(['Latitude','Longitude'])[\"rainfall\"].mean()\n",
    "grouped_1971_to_1980 = grouped_1971_to_1980.reset_index()\n",
    "grouped_1971_to_1980.to_csv(\"grouped_1971_to_1980.csv\",index=False)"
   ]
  },
  {
   "cell_type": "code",
   "execution_count": 136,
   "metadata": {},
   "outputs": [
    {
     "name": "stderr",
     "output_type": "stream",
     "text": [
      "<ipython-input-136-7e1b6404558d>:3: SettingWithCopyWarning: \n",
      "A value is trying to be set on a copy of a slice from a DataFrame.\n",
      "Try using .loc[row_indexer,col_indexer] = value instead\n",
      "\n",
      "See the caveats in the documentation: https://pandas.pydata.org/pandas-docs/stable/user_guide/indexing.html#returning-a-view-versus-a-copy\n",
      "  rainfall_1981_to_1990[\"rainfall\"] = rainfall_1981_to_1990[\"rainfall\"].astype(float)\n"
     ]
    }
   ],
   "source": [
    "#group 1981 - 1990 rainfall data by date, latitude, longitude and get mean(rainfall)\n",
    "rainfall_1981_to_1990 = df[(df[\"Year\"].isin([\"1981\", \"1982\", \"1983\", \"1984\", \"1985\", \"1986\", \"1987\",\"1988\", \"1989\", \"1990\"]))]\n",
    "rainfall_1981_to_1990[\"rainfall\"] = rainfall_1981_to_1990[\"rainfall\"].astype(float)\n",
    "grouped_1981_to_1990 = rainfall_1981_to_1990.groupby(['Latitude','Longitude'])[\"rainfall\"].mean()\n",
    "grouped_1981_to_1990 = grouped_1981_to_1990.reset_index()\n",
    "grouped_1981_to_1990.to_csv(\"grouped_1981_to_1990.csv\",index=False)"
   ]
  },
  {
   "cell_type": "code",
   "execution_count": null,
   "metadata": {},
   "outputs": [],
   "source": []
  }
 ],
 "metadata": {
  "kernelspec": {
   "display_name": "Python 3",
   "language": "python",
   "name": "python3"
  },
  "language_info": {
   "codemirror_mode": {
    "name": "ipython",
    "version": 3
   },
   "file_extension": ".py",
   "mimetype": "text/x-python",
   "name": "python",
   "nbconvert_exporter": "python",
   "pygments_lexer": "ipython3",
   "version": "3.8.3"
  }
 },
 "nbformat": 4,
 "nbformat_minor": 4
}
