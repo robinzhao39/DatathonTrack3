{
 "cells": [
  {
   "cell_type": "markdown",
   "metadata": {},
   "source": [
    "## Import Packages"
   ]
  },
  {
   "cell_type": "code",
   "execution_count": 141,
   "metadata": {},
   "outputs": [],
   "source": [
    "import pandas\n",
    "import re"
   ]
  },
  {
   "cell_type": "markdown",
   "metadata": {},
   "source": [
    "## Specify the longitude range"
   ]
  },
  {
   "cell_type": "code",
   "execution_count": 142,
   "metadata": {},
   "outputs": [],
   "source": [
    "longitude=[\"66.5\", \"67.5\", \"68.5\", \"69.5\", \"70.5\",\n",
    "         \"71.5\", \"72.5\", \"73.5\", \"74.5\", \"75.5\",\n",
    "         \"76.5\", \"77.5\", \"78.5\", \"79.5\", \"80.5\",\n",
    "         \"81.5\", \"82.5\", \"83.5\", \"84.5\", \"85.5\",\n",
    "         \"86.5\", \"87.5\", \"88.5\", \"89.5\", \"90.5\",\n",
    "         \"91.5\", \"92.5\", \"93.5\", \"94.5\", \"95.5\",\n",
    "         \"96.5\", \"97.5\", \"98.5\", \"99.5\", \"100.5\"]"
   ]
  },
  {
   "cell_type": "markdown",
   "metadata": {},
   "source": [
    "## Read data from files and store in data list"
   ]
  },
  {
   "cell_type": "code",
   "execution_count": 143,
   "metadata": {},
   "outputs": [],
   "source": [
    "data=[]\n",
    "for year in range(1951,2016):\n",
    "    file=open(\"rf_\"+str(year)+\".TXT\",'r')\n",
    "    lines=file.readlines()\n",
    "    data.append(lines)\n",
    "    file.close()"
   ]
  },
  {
   "cell_type": "markdown",
   "metadata": {},
   "source": [
    "## Extract Useful Rainfall data"
   ]
  },
  {
   "cell_type": "code",
   "execution_count": 144,
   "metadata": {},
   "outputs": [],
   "source": [
    "row=[]\n",
    "for file in data:\n",
    "    for line in file:\n",
    "        list1=line.split()\n",
    "        if re.search(r'^19|^20', line):\n",
    "            date=list1[0]+\"-\"+list1[1]+\"-\"+list1[2]\n",
    "            continue\n",
    "        elif re.search(r'^66\\.5E|^38\\.5N|^37\\.5N|^7\\.5N|^6\\.5N|^\\n$', line):\n",
    "            continue\n",
    "        else:\n",
    "            lat=list1[0]\n",
    "            count=0\n",
    "            for num in list1[1:]:\n",
    "                if num=='-99.9':\n",
    "                    count+=1\n",
    "                else:\n",
    "                    row.append([date,lat,longitude[count],num])\n",
    "                    count+=1"
   ]
  },
  {
   "cell_type": "code",
   "execution_count": 145,
   "metadata": {},
   "outputs": [],
   "source": [
    "import pandas as pd"
   ]
  },
  {
   "cell_type": "markdown",
   "metadata": {},
   "source": [
    "## Put data into a dataframe"
   ]
  },
  {
   "cell_type": "code",
   "execution_count": 146,
   "metadata": {},
   "outputs": [
    {
     "data": {
      "text/plain": [
       "8475537"
      ]
     },
     "execution_count": 146,
     "metadata": {},
     "output_type": "execute_result"
    }
   ],
   "source": [
    "df=pd.DataFrame(row)\n",
    "df.columns=['Date','Latitude','Longitude','rainfall']\n",
    "len(df)"
   ]
  },
  {
   "cell_type": "code",
   "execution_count": 147,
   "metadata": {},
   "outputs": [
    {
     "data": {
      "text/html": [
       "<div>\n",
       "<style scoped>\n",
       "    .dataframe tbody tr th:only-of-type {\n",
       "        vertical-align: middle;\n",
       "    }\n",
       "\n",
       "    .dataframe tbody tr th {\n",
       "        vertical-align: top;\n",
       "    }\n",
       "\n",
       "    .dataframe thead th {\n",
       "        text-align: right;\n",
       "    }\n",
       "</style>\n",
       "<table border=\"1\" class=\"dataframe\">\n",
       "  <thead>\n",
       "    <tr style=\"text-align: right;\">\n",
       "      <th></th>\n",
       "      <th>Date</th>\n",
       "      <th>Latitude</th>\n",
       "      <th>Longitude</th>\n",
       "      <th>rainfall</th>\n",
       "    </tr>\n",
       "  </thead>\n",
       "  <tbody>\n",
       "    <tr>\n",
       "      <th>0</th>\n",
       "      <td>1951-01-01</td>\n",
       "      <td>36.5</td>\n",
       "      <td>72.5</td>\n",
       "      <td>0.0</td>\n",
       "    </tr>\n",
       "    <tr>\n",
       "      <th>1</th>\n",
       "      <td>1951-01-01</td>\n",
       "      <td>36.5</td>\n",
       "      <td>73.5</td>\n",
       "      <td>0.0</td>\n",
       "    </tr>\n",
       "    <tr>\n",
       "      <th>2</th>\n",
       "      <td>1951-01-01</td>\n",
       "      <td>36.5</td>\n",
       "      <td>74.5</td>\n",
       "      <td>0.0</td>\n",
       "    </tr>\n",
       "    <tr>\n",
       "      <th>3</th>\n",
       "      <td>1951-01-01</td>\n",
       "      <td>36.5</td>\n",
       "      <td>75.5</td>\n",
       "      <td>0.0</td>\n",
       "    </tr>\n",
       "    <tr>\n",
       "      <th>4</th>\n",
       "      <td>1951-01-01</td>\n",
       "      <td>36.5</td>\n",
       "      <td>78.5</td>\n",
       "      <td>0.0</td>\n",
       "    </tr>\n",
       "  </tbody>\n",
       "</table>\n",
       "</div>"
      ],
      "text/plain": [
       "         Date Latitude Longitude rainfall\n",
       "0  1951-01-01     36.5      72.5      0.0\n",
       "1  1951-01-01     36.5      73.5      0.0\n",
       "2  1951-01-01     36.5      74.5      0.0\n",
       "3  1951-01-01     36.5      75.5      0.0\n",
       "4  1951-01-01     36.5      78.5      0.0"
      ]
     },
     "execution_count": 147,
     "metadata": {},
     "output_type": "execute_result"
    }
   ],
   "source": [
    "df.head()"
   ]
  },
  {
   "cell_type": "code",
   "execution_count": 149,
   "metadata": {},
   "outputs": [],
   "source": [
    "df.to_csv(\"India_Rainfall_Data.csv\",index=False)"
   ]
  },
  {
   "cell_type": "code",
   "execution_count": null,
   "metadata": {},
   "outputs": [],
   "source": []
  }
 ],
 "metadata": {
  "kernelspec": {
   "display_name": "Python 3",
   "language": "python",
   "name": "python3"
  },
  "language_info": {
   "codemirror_mode": {
    "name": "ipython",
    "version": 3
   },
   "file_extension": ".py",
   "mimetype": "text/x-python",
   "name": "python",
   "nbconvert_exporter": "python",
   "pygments_lexer": "ipython3",
   "version": "3.8.5"
  }
 },
 "nbformat": 4,
 "nbformat_minor": 4
}
